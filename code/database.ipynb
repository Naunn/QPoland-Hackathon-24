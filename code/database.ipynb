{
 "cells": [
  {
   "cell_type": "code",
   "execution_count": 1,
   "metadata": {},
   "outputs": [],
   "source": [
    "import pandas as pd\n",
    "\n",
    "import sqlite3\n",
    "from eralchemy import render_er\n",
    "\n",
    "import os\n",
    "\n",
    "PATH = \"C:\\\\Users\\\\User\\\\Desktop\\\\repos\\\\QPoland-Hackathon-24\\\\data\\\\\""
   ]
  },
  {
   "cell_type": "code",
   "execution_count": 2,
   "metadata": {},
   "outputs": [],
   "source": [
    "# connection to the database\n",
    "con = sqlite3.connect(PATH + \"smplr_inst.db\")"
   ]
  },
  {
   "cell_type": "code",
   "execution_count": 3,
   "metadata": {},
   "outputs": [],
   "source": [
    "# dumb the tables into .db\n",
    "Simpler_instance = PATH + \"Simpler_instance\\\\\"\n",
    "\n",
    "# obligatory\n",
    "obligatory = [\n",
    "    \"aircraft.csv\",\n",
    "    \"aircraft_unavailabilities.csv\",\n",
    "    \"airport_closures.csv\",\n",
    "    \"crew.csv\",\n",
    "    \"crew_pairings.csv\",\n",
    "    \"crew_rostering.csv\",\n",
    "    \"crew_unavailabilities.csv\",\n",
    "    \"flights.csv\",\n",
    "    \"flight_disruptions.csv\",\n",
    "    \"maintenance.csv\",\n",
    "    \"routes.csv\",\n",
    "]\n",
    "\n",
    "for table in os.listdir(Simpler_instance):\n",
    "\n",
    "    if table not in obligatory:\n",
    "        continue\n",
    "\n",
    "    try:\n",
    "        pd.read_csv(Simpler_instance + table).to_sql(\n",
    "            name=table.replace(\".csv\", \"\"), con=con\n",
    "        )\n",
    "    except:\n",
    "        continue\n",
    "\n",
    "con.commit()"
   ]
  },
  {
   "cell_type": "code",
   "execution_count": 4,
   "metadata": {},
   "outputs": [
    {
     "data": {
      "text/plain": [
       "[('crew_pairings',),\n",
       " ('crew',),\n",
       " ('aircraft',),\n",
       " ('aircraft_unavailabilities',),\n",
       " ('airport_closures',),\n",
       " ('routes',),\n",
       " ('maintenance',),\n",
       " ('flight_disruptions',),\n",
       " ('flights',),\n",
       " ('crew_unavailabilities',),\n",
       " ('crew_rostering',)]"
      ]
     },
     "execution_count": 4,
     "metadata": {},
     "output_type": "execute_result"
    }
   ],
   "source": [
    "# list all the tables available\n",
    "cur = con.cursor()\n",
    "cur.execute(\"SELECT name FROM sqlite_master WHERE type='table';\")\n",
    "cur.fetchall()"
   ]
  },
  {
   "cell_type": "code",
   "execution_count": 5,
   "metadata": {},
   "outputs": [
    {
     "data": {
      "text/html": [
       "<div>\n",
       "<style scoped>\n",
       "    .dataframe tbody tr th:only-of-type {\n",
       "        vertical-align: middle;\n",
       "    }\n",
       "\n",
       "    .dataframe tbody tr th {\n",
       "        vertical-align: top;\n",
       "    }\n",
       "\n",
       "    .dataframe thead th {\n",
       "        text-align: right;\n",
       "    }\n",
       "</style>\n",
       "<table border=\"1\" class=\"dataframe\">\n",
       "  <thead>\n",
       "    <tr style=\"text-align: right;\">\n",
       "      <th></th>\n",
       "      <th>index</th>\n",
       "      <th>registration</th>\n",
       "      <th>model</th>\n",
       "      <th>family</th>\n",
       "      <th>position</th>\n",
       "      <th>owned</th>\n",
       "    </tr>\n",
       "  </thead>\n",
       "  <tbody>\n",
       "    <tr>\n",
       "      <th>0</th>\n",
       "      <td>0</td>\n",
       "      <td>A321#4</td>\n",
       "      <td>A321</td>\n",
       "      <td>Airbus</td>\n",
       "      <td>CDG</td>\n",
       "      <td>1</td>\n",
       "    </tr>\n",
       "    <tr>\n",
       "      <th>1</th>\n",
       "      <td>1</td>\n",
       "      <td>A320#10</td>\n",
       "      <td>A320</td>\n",
       "      <td>Airbus</td>\n",
       "      <td>TLS</td>\n",
       "      <td>1</td>\n",
       "    </tr>\n",
       "  </tbody>\n",
       "</table>\n",
       "</div>"
      ],
      "text/plain": [
       "   index registration model  family position  owned\n",
       "0      0       A321#4  A321  Airbus      CDG      1\n",
       "1      1      A320#10  A320  Airbus      TLS      1"
      ]
     },
     "execution_count": 5,
     "metadata": {},
     "output_type": "execute_result"
    }
   ],
   "source": [
    "# read as a dataframe\n",
    "pd.read_sql_query(\"SELECT * FROM aircraft\", con)"
   ]
  },
  {
   "cell_type": "code",
   "execution_count": 6,
   "metadata": {},
   "outputs": [
    {
     "data": {
      "text/plain": [
       "<AGraph <Swig Object of type 'Agraph_t *' at 0x000001B0B68E9740>>"
      ]
     },
     "execution_count": 6,
     "metadata": {},
     "output_type": "execute_result"
    }
   ],
   "source": [
    "# Draw diagram of the database\n",
    "# (keys added manualy)\n",
    "render_er(\"sqlite:///\" + PATH + \"smplr_inst.db\", \"erd_from_sqlite.png\")"
   ]
  },
  {
   "cell_type": "code",
   "execution_count": null,
   "metadata": {},
   "outputs": [],
   "source": []
  }
 ],
 "metadata": {
  "kernelspec": {
   "display_name": "QPoland_Hackathon_24",
   "language": "python",
   "name": "python3"
  },
  "language_info": {
   "codemirror_mode": {
    "name": "ipython",
    "version": 3
   },
   "file_extension": ".py",
   "mimetype": "text/x-python",
   "name": "python",
   "nbconvert_exporter": "python",
   "pygments_lexer": "ipython3",
   "version": "3.13.0"
  }
 },
 "nbformat": 4,
 "nbformat_minor": 2
}
